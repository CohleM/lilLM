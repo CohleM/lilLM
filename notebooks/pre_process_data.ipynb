{
 "cells": [
  {
   "cell_type": "code",
   "execution_count": 2,
   "id": "02c4e02c",
   "metadata": {},
   "outputs": [
    {
     "name": "stderr",
     "output_type": "stream",
     "text": [
      "/Users/cohlem/anaconda3/envs/deep_learning/lib/python3.12/site-packages/tqdm/auto.py:21: TqdmWarning: IProgress not found. Please update jupyter and ipywidgets. See https://ipywidgets.readthedocs.io/en/stable/user_install.html\n",
      "  from .autonotebook import tqdm as notebook_tqdm\n"
     ]
    },
    {
     "name": "stdout",
     "output_type": "stream",
     "text": [
      "Raw text size: 49 bytes\n",
      "Tokenized size: 24 bytes\n"
     ]
    }
   ],
   "source": [
    "from transformers import GPT2Tokenizer\n",
    "import numpy as np\n",
    "\n",
    "# Load tokenizer\n",
    "tokenizer = GPT2Tokenizer.from_pretrained(\"gpt2\")\n",
    "\n",
    "# Example text\n",
    "text = \"Hello, world! This is an example of tokenization.\"\n",
    "\n",
    "# Tokenize the text\n",
    "tokens = tokenizer.encode(text)\n",
    "\n",
    "# Save raw text to a file\n",
    "with open(\"raw_text.txt\", \"w\", encoding=\"utf-8\") as f:\n",
    "    f.write(text)\n",
    "\n",
    "# Save tokenized data to a binary file\n",
    "tokens_np = np.array(tokens, dtype=np.uint16)\n",
    "tokens_np.tofile(\"tokenized_data.bin\")\n",
    "\n",
    "# Compare file sizes\n",
    "import os\n",
    "raw_text_size = os.path.getsize(\"raw_text.txt\")\n",
    "tokenized_size = os.path.getsize(\"tokenized_data.bin\")\n",
    "\n",
    "print(f\"Raw text size: {raw_text_size} bytes\")\n",
    "print(f\"Tokenized size: {tokenized_size} bytes\")"
   ]
  },
  {
   "cell_type": "code",
   "execution_count": 5,
   "id": "da6decfe",
   "metadata": {},
   "outputs": [
    {
     "data": {
      "text/plain": [
       "49"
      ]
     },
     "execution_count": 5,
     "metadata": {},
     "output_type": "execute_result"
    }
   ],
   "source": [
    "len(list(text.encode('utf-8')))"
   ]
  },
  {
   "cell_type": "code",
   "execution_count": 9,
   "id": "e6aa8db6",
   "metadata": {},
   "outputs": [
    {
     "data": {
      "text/plain": [
       "24"
      ]
     },
     "execution_count": 9,
     "metadata": {},
     "output_type": "execute_result"
    }
   ],
   "source": [
    "len(tokens_np)*2"
   ]
  },
  {
   "cell_type": "code",
   "execution_count": 10,
   "id": "b347f08a",
   "metadata": {},
   "outputs": [
    {
     "data": {
      "text/plain": [
       "2.0416666666666665"
      ]
     },
     "execution_count": 10,
     "metadata": {},
     "output_type": "execute_result"
    }
   ],
   "source": [
    "49/24"
   ]
  },
  {
   "cell_type": "code",
   "execution_count": 1,
   "id": "901f396b",
   "metadata": {},
   "outputs": [],
   "source": [
    "from torch.utils.data import Dataset, DataLoader"
   ]
  },
  {
   "cell_type": "code",
   "execution_count": null,
   "id": "9a10d716",
   "metadata": {},
   "outputs": [],
   "source": []
  },
  {
   "cell_type": "code",
   "execution_count": null,
   "id": "c730062f",
   "metadata": {},
   "outputs": [],
   "source": [
    "class PretrainDataset(Dataset):\n",
    "    def __init__(self, df, tokenizer, max_length=512):\n",
    "        super().__init__()\n",
    "        self.df = df\n",
    "        self.tokenizer = tokenizer\n",
    "        self.max_length = max_length\n",
    "        self.padding = 0\n",
    "\n",
    "    def __len__(self):\n",
    "        return self.df.shape[0]\n",
    "\n",
    "    def __getitem__(self, index: int):\n",
    "        #\n",
    "        sample = self.df.iloc[index]\n",
    "        text = f\"{self.tokenizer.bos_token}{str(sample['text'])}{self.tokenizer.eos_token}\"\n",
    "        input_id = self.tokenizer(text).data['input_ids'][:self.max_length]\n",
    "        text_len = len(input_id)\n",
    "        # 没满最大长度的剩余部分\n",
    "        padding_len = self.max_length - text_len\n",
    "        input_id = input_id + [self.padding] * padding_len\n",
    "        # 0表示不计算损失\n",
    "        loss_mask = [1] * text_len + [0] * padding_len\n",
    "\n",
    "        input_id = np.array(input_id)\n",
    "        X = np.array(input_id[:-1]).astype(np.int64)\n",
    "        Y = np.array(input_id[1:]).astype(np.int64)\n",
    "        loss_mask = np.array(loss_mask[1:]).astype(np.int64)\n",
    "        return torch.from_numpy(X), torch.from_numpy(Y), torch.from_numpy(loss_mask)"
   ]
  }
 ],
 "metadata": {
  "kernelspec": {
   "display_name": "deep_learning",
   "language": "python",
   "name": "deep_learning"
  },
  "language_info": {
   "codemirror_mode": {
    "name": "ipython",
    "version": 3
   },
   "file_extension": ".py",
   "mimetype": "text/x-python",
   "name": "python",
   "nbconvert_exporter": "python",
   "pygments_lexer": "ipython3",
   "version": "3.12.7"
  }
 },
 "nbformat": 4,
 "nbformat_minor": 5
}
